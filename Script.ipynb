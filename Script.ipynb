{
 "cells": [
  {
   "cell_type": "markdown",
   "metadata": {},
   "source": [
    "Import Libraries"
   ]
  },
  {
   "cell_type": "code",
   "execution_count": 3,
   "metadata": {},
   "outputs": [],
   "source": [
    "import re\n",
    "import csv\n",
    "from collections import Counter, defaultdict\n",
    "from IPython.display import display, Markdown\n"
   ]
  },
  {
   "cell_type": "markdown",
   "metadata": {},
   "source": [
    "Define Parsing Function"
   ]
  },
  {
   "cell_type": "code",
   "execution_count": 4,
   "metadata": {},
   "outputs": [],
   "source": [
    "def parse_log_file(file_path):\n",
    "    ip_requests = Counter()\n",
    "    endpoints = Counter()\n",
    "    failed_logins = defaultdict(int)\n",
    "\n",
    "    # Regular expressions to extract data from log lines\n",
    "    log_pattern = r'(?P<ip>\\d+\\.\\d+\\.\\d+\\.\\d+) .* \"(?P<method>[A-Z]+) (?P<endpoint>.+?) HTTP.*\" (?P<status>\\d+)'\n",
    "    failed_login_codes = ['401']  # Add other status codes/messages for failed logins if needed\n",
    "\n",
    "    with open(file_path, 'r') as file:\n",
    "        for line in file:\n",
    "            match = re.search(log_pattern, line)\n",
    "            if match:\n",
    "                ip = match.group('ip')\n",
    "                endpoint = match.group('endpoint')\n",
    "                status = match.group('status')\n",
    "\n",
    "                # Count requests per IP\n",
    "                ip_requests[ip] += 1\n",
    "\n",
    "                # Count endpoint access\n",
    "                endpoints[endpoint] += 1\n",
    "\n",
    "                # Detect failed login attempts\n",
    "                if status in failed_login_codes:\n",
    "                    failed_logins[ip] += 1\n",
    "\n",
    "    return ip_requests, endpoints, failed_logins\n"
   ]
  },
  {
   "cell_type": "markdown",
   "metadata": {},
   "source": [
    " Define Parsing Function"
   ]
  },
  {
   "cell_type": "code",
   "execution_count": 6,
   "metadata": {},
   "outputs": [],
   "source": [
    "def save_to_csv(ip_requests, most_accessed_endpoint, failed_logins, output_file):\n",
    "    with open(output_file, 'w', newline='') as csvfile:\n",
    "        writer = csv.writer(csvfile)\n",
    "\n",
    "        # Write requests per IP\n",
    "        writer.writerow(['Requests per IP'])\n",
    "        writer.writerow(['IP Address', 'Request Count'])\n",
    "        for ip, count in ip_requests.items():\n",
    "            writer.writerow([ip, count])\n",
    "\n",
    "        writer.writerow([])  # Blank line for separation\n",
    "\n",
    "        # Write most accessed endpoint\n",
    "        writer.writerow(['Most Accessed Endpoint'])\n",
    "        writer.writerow(['Endpoint', 'Access Count'])\n",
    "        writer.writerow([most_accessed_endpoint[0], most_accessed_endpoint[1]])\n",
    "\n",
    "        writer.writerow([])  # Blank line for separation\n",
    "\n",
    "        # Write suspicious activity\n",
    "        writer.writerow(['Suspicious Activity'])\n",
    "        writer.writerow(['IP Address', 'Failed Login Count'])\n",
    "        for ip, count in failed_logins.items():\n",
    "            writer.writerow([ip, count])\n"
   ]
  },
  {
   "cell_type": "markdown",
   "metadata": {},
   "source": [
    "Save Results to CSV"
   ]
  },
  {
   "cell_type": "code",
   "execution_count": 7,
   "metadata": {},
   "outputs": [],
   "source": [
    "def display_results(ip_requests, most_accessed_endpoint, suspicious_activity):\n",
    "    # Display IP Requests\n",
    "    display(Markdown(\"### IP Address Request Counts\"))\n",
    "    for ip, count in ip_requests.most_common():\n",
    "        print(f\"{ip:20} {count}\")\n",
    "\n",
    "    # Display Most Accessed Endpoint\n",
    "    display(Markdown(\"### Most Frequently Accessed Endpoint\"))\n",
    "    print(f\"{most_accessed_endpoint[0]} (Accessed {most_accessed_endpoint[1]} times)\")\n",
    "\n",
    "    # Display Suspicious Activity\n",
    "    display(Markdown(\"### Suspicious Activity Detected\"))\n",
    "    for ip, count in suspicious_activity.items():\n",
    "        print(f\"{ip:20} {count}\")\n"
   ]
  },
  {
   "cell_type": "markdown",
   "metadata": {},
   "source": [
    "Display Results"
   ]
  },
  {
   "cell_type": "code",
   "execution_count": 8,
   "metadata": {},
   "outputs": [
    {
     "data": {
      "text/markdown": [
       "### IP Address Request Counts"
      ],
      "text/plain": [
       "<IPython.core.display.Markdown object>"
      ]
     },
     "metadata": {},
     "output_type": "display_data"
    },
    {
     "name": "stdout",
     "output_type": "stream",
     "text": [
      "203.0.113.5          8\n",
      "198.51.100.23        8\n",
      "192.168.1.1          7\n",
      "10.0.0.2             6\n",
      "192.168.1.100        5\n"
     ]
    },
    {
     "data": {
      "text/markdown": [
       "### Most Frequently Accessed Endpoint"
      ],
      "text/plain": [
       "<IPython.core.display.Markdown object>"
      ]
     },
     "metadata": {},
     "output_type": "display_data"
    },
    {
     "name": "stdout",
     "output_type": "stream",
     "text": [
      "/login (Accessed 13 times)\n"
     ]
    },
    {
     "data": {
      "text/markdown": [
       "### Suspicious Activity Detected"
      ],
      "text/plain": [
       "<IPython.core.display.Markdown object>"
      ]
     },
     "metadata": {},
     "output_type": "display_data"
    },
    {
     "data": {
      "text/markdown": [
       "**Results saved to `log_analysis_results.csv`**"
      ],
      "text/plain": [
       "<IPython.core.display.Markdown object>"
      ]
     },
     "metadata": {},
     "output_type": "display_data"
    }
   ],
   "source": [
    "# User input for file path\n",
    "log_file_path = input(\"Enter the path to the log file: \")\n",
    "output_file_path = \"log_analysis_results.csv\"\n",
    "failed_login_threshold = 10\n",
    "\n",
    "# Parse the log file\n",
    "ip_requests, endpoints, failed_logins = parse_log_file(log_file_path)\n",
    "\n",
    "# Identify the most accessed endpoint\n",
    "most_accessed_endpoint = endpoints.most_common(1)[0]\n",
    "\n",
    "# Filter suspicious activity\n",
    "suspicious_activity = {ip: count for ip, count in failed_logins.items() if count > failed_login_threshold}\n",
    "\n",
    "# Display results\n",
    "display_results(ip_requests, most_accessed_endpoint, suspicious_activity)\n",
    "\n",
    "# Save results to CSV\n",
    "save_to_csv(ip_requests, most_accessed_endpoint, suspicious_activity, output_file_path)\n",
    "display(Markdown(f\"**Results saved to `{output_file_path}`**\"))\n"
   ]
  }
 ],
 "metadata": {
  "kernelspec": {
   "display_name": "Python 3",
   "language": "python",
   "name": "python3"
  },
  "language_info": {
   "codemirror_mode": {
    "name": "ipython",
    "version": 3
   },
   "file_extension": ".py",
   "mimetype": "text/x-python",
   "name": "python",
   "nbconvert_exporter": "python",
   "pygments_lexer": "ipython3",
   "version": "3.11.5"
  }
 },
 "nbformat": 4,
 "nbformat_minor": 2
}
